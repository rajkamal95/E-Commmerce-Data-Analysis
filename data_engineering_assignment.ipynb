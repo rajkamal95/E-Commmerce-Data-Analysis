{
 "cells": [
  {
   "cell_type": "markdown",
   "metadata": {},
   "source": [
    "# Dataset"
   ]
  },
  {
   "cell_type": "markdown",
   "metadata": {},
   "source": [
    "This dataset is of products that has been sold from different e-commerce websites.\n",
    "\n",
    "Given data is in txt format and '|' seperator is used but this seperator is present more than no of columns. i.e we have to      take a different delimiter on our dataset.        \n",
    "\n",
    "so i opened this using excel and using '|' seperator and excel automatically put 'tab' seperator at the end of each column. and also add some 'Unnamed' columns for the data outside the present columns. and saved this file as .txt."
   ]
  },
  {
   "cell_type": "markdown",
   "metadata": {},
   "source": [
    "### Importing pandas\n",
    "To load the dataset and visualize it"
   ]
  },
  {
   "cell_type": "code",
   "execution_count": 1,
   "metadata": {},
   "outputs": [],
   "source": [
    "import pandas as pd\n",
    "import warnings\n",
    "warnings.filterwarnings(\"ignore\")"
   ]
  },
  {
   "cell_type": "markdown",
   "metadata": {},
   "source": [
    "#### Load csv file using read_csv. "
   ]
  },
  {
   "cell_type": "code",
   "execution_count": 2,
   "metadata": {},
   "outputs": [
    {
     "data": {
      "text/html": [
       "<div>\n",
       "<style scoped>\n",
       "    .dataframe tbody tr th:only-of-type {\n",
       "        vertical-align: middle;\n",
       "    }\n",
       "\n",
       "    .dataframe tbody tr th {\n",
       "        vertical-align: top;\n",
       "    }\n",
       "\n",
       "    .dataframe thead th {\n",
       "        text-align: right;\n",
       "    }\n",
       "</style>\n",
       "<table border=\"1\" class=\"dataframe\">\n",
       "  <thead>\n",
       "    <tr style=\"text-align: right;\">\n",
       "      <th></th>\n",
       "      <th>_id</th>\n",
       "      <th>name</th>\n",
       "      <th>price</th>\n",
       "      <th>website_id</th>\n",
       "      <th>sku</th>\n",
       "      <th>url</th>\n",
       "      <th>brand</th>\n",
       "      <th>media</th>\n",
       "      <th>description_text</th>\n",
       "      <th>Unnamed: 9</th>\n",
       "      <th>Unnamed: 10</th>\n",
       "      <th>Unnamed: 11</th>\n",
       "      <th>Unnamed: 12</th>\n",
       "      <th>Unnamed: 13</th>\n",
       "      <th>Unnamed: 14</th>\n",
       "      <th>Unnamed: 15</th>\n",
       "      <th>Unnamed: 16</th>\n",
       "      <th>Unnamed: 17</th>\n",
       "    </tr>\n",
       "  </thead>\n",
       "  <tbody>\n",
       "    <tr>\n",
       "      <th>0</th>\n",
       "      <td>5d0b8aca0db7220b86cb4035</td>\n",
       "      <td>Joules Top Dog Underwear Three Pack</td>\n",
       "      <td>{'offer_price': {'currency': 'GBP', 'value': 3...</td>\n",
       "      <td>5cff5e7fe40f4900046735fa</td>\n",
       "      <td>312838</td>\n",
       "      <td>www.next.co.uk/style/st355408#312838</td>\n",
       "      <td>{'name': 'joules', 'sub_brand': ''}</td>\n",
       "      <td>{'standard': [{'order': 1, 'url': 'https://xcd...</td>\n",
       "      <td>95% Cotton, 5% Elastane.</td>\n",
       "      <td>NaN</td>\n",
       "      <td>NaN</td>\n",
       "      <td>NaN</td>\n",
       "      <td>NaN</td>\n",
       "      <td>NaN</td>\n",
       "      <td>NaN</td>\n",
       "      <td>NaN</td>\n",
       "      <td>NaN</td>\n",
       "      <td>NaN</td>\n",
       "    </tr>\n",
       "    <tr>\n",
       "      <th>1</th>\n",
       "      <td>5d0b8aca0db7220b86cb4036</td>\n",
       "      <td>Figleaves Cheetah Satin Pyjama Set</td>\n",
       "      <td>{'offer_price': {'currency': 'GBP', 'value': 2...</td>\n",
       "      <td>5cff5e7fe40f4900046735fa</td>\n",
       "      <td>319571</td>\n",
       "      <td>https://www.next.co.uk/style/st324987#319571</td>\n",
       "      <td>{'name': 'figleaves', 'sub_brand': ''}</td>\n",
       "      <td>{'standard': [{'order': 1, 'url': 'https://xcd...</td>\n",
       "      <td>100% Polyester.</td>\n",
       "      <td>NaN</td>\n",
       "      <td>NaN</td>\n",
       "      <td>NaN</td>\n",
       "      <td>NaN</td>\n",
       "      <td>NaN</td>\n",
       "      <td>NaN</td>\n",
       "      <td>NaN</td>\n",
       "      <td>NaN</td>\n",
       "      <td>NaN</td>\n",
       "    </tr>\n",
       "    <tr>\n",
       "      <th>2</th>\n",
       "      <td>5d0b8aca0db7220b86cb4037</td>\n",
       "      <td>Nike Solid 4\" Swim Short</td>\n",
       "      <td>{'offer_price': {'currency': 'GBP', 'value': 1...</td>\n",
       "      <td>5cff5e7fe40f4900046735fa</td>\n",
       "      <td>335026</td>\n",
       "      <td>https://www.next.co.uk/style/st400645#335026</td>\n",
       "      <td>{'name': 'nike', 'sub_brand': ''}</td>\n",
       "      <td>{'standard': [{'order': 1, 'url': 'https://xcd...</td>\n",
       "      <td>Nike Swim Boys' Solid Lap 4 Volley Short is a ...</td>\n",
       "      <td>NaN</td>\n",
       "      <td>NaN</td>\n",
       "      <td>NaN</td>\n",
       "      <td>NaN</td>\n",
       "      <td>NaN</td>\n",
       "      <td>NaN</td>\n",
       "      <td>NaN</td>\n",
       "      <td>NaN</td>\n",
       "      <td>NaN</td>\n",
       "    </tr>\n",
       "    <tr>\n",
       "      <th>3</th>\n",
       "      <td>5d0b8aca0db7220b86cb4038</td>\n",
       "      <td>Collection Luxe Orchid</td>\n",
       "      <td>{'offer_price': {'currency': 'GBP', 'value': 1...</td>\n",
       "      <td>5cff5e7fe40f4900046735fa</td>\n",
       "      <td>552266</td>\n",
       "      <td>https://www.next.co.uk/style/st262195#552266</td>\n",
       "      <td>{'name': 'next', 'sub_brand': ''}</td>\n",
       "      <td>{'standard': [{'order': 1, 'url': 'https://xcd...</td>\n",
       "      <td>Height 85cm</td>\n",
       "      <td>NaN</td>\n",
       "      <td>NaN</td>\n",
       "      <td>NaN</td>\n",
       "      <td>NaN</td>\n",
       "      <td>NaN</td>\n",
       "      <td>NaN</td>\n",
       "      <td>NaN</td>\n",
       "      <td>NaN</td>\n",
       "      <td>NaN</td>\n",
       "    </tr>\n",
       "    <tr>\n",
       "      <th>4</th>\n",
       "      <td>5d0b8aca0db7220b86cb4039</td>\n",
       "      <td>River Island White Sleeveless Blazer</td>\n",
       "      <td>{'offer_price': {'currency': 'GBP', 'value': 5...</td>\n",
       "      <td>5cff5e7fe40f4900046735fa</td>\n",
       "      <td>680971</td>\n",
       "      <td>https://www.next.co.uk/style/st440132#680971</td>\n",
       "      <td>{'name': 'river island', 'sub_brand': ''}</td>\n",
       "      <td>{'standard': [{'order': 1, 'url': 'https://xcd...</td>\n",
       "      <td>100% Polyester.</td>\n",
       "      <td>NaN</td>\n",
       "      <td>NaN</td>\n",
       "      <td>NaN</td>\n",
       "      <td>NaN</td>\n",
       "      <td>NaN</td>\n",
       "      <td>NaN</td>\n",
       "      <td>NaN</td>\n",
       "      <td>NaN</td>\n",
       "      <td>NaN</td>\n",
       "    </tr>\n",
       "  </tbody>\n",
       "</table>\n",
       "</div>"
      ],
      "text/plain": [
       "                        _id                                  name  \\\n",
       "0  5d0b8aca0db7220b86cb4035   Joules Top Dog Underwear Three Pack   \n",
       "1  5d0b8aca0db7220b86cb4036    Figleaves Cheetah Satin Pyjama Set   \n",
       "2  5d0b8aca0db7220b86cb4037              Nike Solid 4\" Swim Short   \n",
       "3  5d0b8aca0db7220b86cb4038                Collection Luxe Orchid   \n",
       "4  5d0b8aca0db7220b86cb4039  River Island White Sleeveless Blazer   \n",
       "\n",
       "                                               price  \\\n",
       "0  {'offer_price': {'currency': 'GBP', 'value': 3...   \n",
       "1  {'offer_price': {'currency': 'GBP', 'value': 2...   \n",
       "2  {'offer_price': {'currency': 'GBP', 'value': 1...   \n",
       "3  {'offer_price': {'currency': 'GBP', 'value': 1...   \n",
       "4  {'offer_price': {'currency': 'GBP', 'value': 5...   \n",
       "\n",
       "                 website_id     sku  \\\n",
       "0  5cff5e7fe40f4900046735fa  312838   \n",
       "1  5cff5e7fe40f4900046735fa  319571   \n",
       "2  5cff5e7fe40f4900046735fa  335026   \n",
       "3  5cff5e7fe40f4900046735fa  552266   \n",
       "4  5cff5e7fe40f4900046735fa  680971   \n",
       "\n",
       "                                            url  \\\n",
       "0          www.next.co.uk/style/st355408#312838   \n",
       "1  https://www.next.co.uk/style/st324987#319571   \n",
       "2  https://www.next.co.uk/style/st400645#335026   \n",
       "3  https://www.next.co.uk/style/st262195#552266   \n",
       "4  https://www.next.co.uk/style/st440132#680971   \n",
       "\n",
       "                                       brand  \\\n",
       "0        {'name': 'joules', 'sub_brand': ''}   \n",
       "1     {'name': 'figleaves', 'sub_brand': ''}   \n",
       "2          {'name': 'nike', 'sub_brand': ''}   \n",
       "3          {'name': 'next', 'sub_brand': ''}   \n",
       "4  {'name': 'river island', 'sub_brand': ''}   \n",
       "\n",
       "                                               media  \\\n",
       "0  {'standard': [{'order': 1, 'url': 'https://xcd...   \n",
       "1  {'standard': [{'order': 1, 'url': 'https://xcd...   \n",
       "2  {'standard': [{'order': 1, 'url': 'https://xcd...   \n",
       "3  {'standard': [{'order': 1, 'url': 'https://xcd...   \n",
       "4  {'standard': [{'order': 1, 'url': 'https://xcd...   \n",
       "\n",
       "                                    description_text Unnamed: 9 Unnamed: 10  \\\n",
       "0                           95% Cotton, 5% Elastane.        NaN         NaN   \n",
       "1                                    100% Polyester.        NaN         NaN   \n",
       "2  Nike Swim Boys' Solid Lap 4 Volley Short is a ...        NaN         NaN   \n",
       "3                                        Height 85cm        NaN         NaN   \n",
       "4                                    100% Polyester.        NaN         NaN   \n",
       "\n",
       "  Unnamed: 11 Unnamed: 12 Unnamed: 13 Unnamed: 14 Unnamed: 15 Unnamed: 16  \\\n",
       "0         NaN         NaN         NaN         NaN         NaN         NaN   \n",
       "1         NaN         NaN         NaN         NaN         NaN         NaN   \n",
       "2         NaN         NaN         NaN         NaN         NaN         NaN   \n",
       "3         NaN         NaN         NaN         NaN         NaN         NaN   \n",
       "4         NaN         NaN         NaN         NaN         NaN         NaN   \n",
       "\n",
       "  Unnamed: 17  \n",
       "0         NaN  \n",
       "1         NaN  \n",
       "2         NaN  \n",
       "3         NaN  \n",
       "4         NaN  "
      ]
     },
     "execution_count": 2,
     "metadata": {},
     "output_type": "execute_result"
    }
   ],
   "source": [
    "dataframe= pd.read_csv('C:\\\\Users\\\\RAJ\\\\Desktop\\\\data_engineering.txt', sep='\\t')\n",
    "dataframe.head()"
   ]
  },
  {
   "cell_type": "code",
   "execution_count": 3,
   "metadata": {},
   "outputs": [
    {
     "data": {
      "text/plain": [
       "Index(['_id', 'name', 'price', 'website_id', 'sku', 'url', 'brand', 'media',\n",
       "       'description_text', 'Unnamed: 9', 'Unnamed: 10', 'Unnamed: 11',\n",
       "       'Unnamed: 12', 'Unnamed: 13', 'Unnamed: 14', 'Unnamed: 15',\n",
       "       'Unnamed: 16', 'Unnamed: 17'],\n",
       "      dtype='object')"
      ]
     },
     "execution_count": 3,
     "metadata": {},
     "output_type": "execute_result"
    }
   ],
   "source": [
    "dataframe.columns                        # to print all columns present in our data"
   ]
  },
  {
   "cell_type": "markdown",
   "metadata": {},
   "source": [
    "Here we can see that there are 9 columns with 'Unnamed: ' (9 to 17). when we scroll download the data we find that there is \n",
    "nothing in these columns so we can neglect this columns. "
   ]
  },
  {
   "cell_type": "markdown",
   "metadata": {},
   "source": [
    "### Make new dataframe\n",
    "we will neglect the empty columns using 'iloc' function to access rows and columns of our data"
   ]
  },
  {
   "cell_type": "code",
   "execution_count": 4,
   "metadata": {},
   "outputs": [],
   "source": [
    "new_dataframe=dataframe.iloc[:,0:9]"
   ]
  },
  {
   "cell_type": "code",
   "execution_count": 5,
   "metadata": {},
   "outputs": [
    {
     "data": {
      "text/html": [
       "<div>\n",
       "<style scoped>\n",
       "    .dataframe tbody tr th:only-of-type {\n",
       "        vertical-align: middle;\n",
       "    }\n",
       "\n",
       "    .dataframe tbody tr th {\n",
       "        vertical-align: top;\n",
       "    }\n",
       "\n",
       "    .dataframe thead th {\n",
       "        text-align: right;\n",
       "    }\n",
       "</style>\n",
       "<table border=\"1\" class=\"dataframe\">\n",
       "  <thead>\n",
       "    <tr style=\"text-align: right;\">\n",
       "      <th></th>\n",
       "      <th>_id</th>\n",
       "      <th>name</th>\n",
       "      <th>price</th>\n",
       "      <th>website_id</th>\n",
       "      <th>sku</th>\n",
       "      <th>url</th>\n",
       "      <th>brand</th>\n",
       "      <th>media</th>\n",
       "      <th>description_text</th>\n",
       "    </tr>\n",
       "  </thead>\n",
       "  <tbody>\n",
       "    <tr>\n",
       "      <th>0</th>\n",
       "      <td>5d0b8aca0db7220b86cb4035</td>\n",
       "      <td>Joules Top Dog Underwear Three Pack</td>\n",
       "      <td>{'offer_price': {'currency': 'GBP', 'value': 3...</td>\n",
       "      <td>5cff5e7fe40f4900046735fa</td>\n",
       "      <td>312838</td>\n",
       "      <td>www.next.co.uk/style/st355408#312838</td>\n",
       "      <td>{'name': 'joules', 'sub_brand': ''}</td>\n",
       "      <td>{'standard': [{'order': 1, 'url': 'https://xcd...</td>\n",
       "      <td>95% Cotton, 5% Elastane.</td>\n",
       "    </tr>\n",
       "    <tr>\n",
       "      <th>1</th>\n",
       "      <td>5d0b8aca0db7220b86cb4036</td>\n",
       "      <td>Figleaves Cheetah Satin Pyjama Set</td>\n",
       "      <td>{'offer_price': {'currency': 'GBP', 'value': 2...</td>\n",
       "      <td>5cff5e7fe40f4900046735fa</td>\n",
       "      <td>319571</td>\n",
       "      <td>https://www.next.co.uk/style/st324987#319571</td>\n",
       "      <td>{'name': 'figleaves', 'sub_brand': ''}</td>\n",
       "      <td>{'standard': [{'order': 1, 'url': 'https://xcd...</td>\n",
       "      <td>100% Polyester.</td>\n",
       "    </tr>\n",
       "    <tr>\n",
       "      <th>2</th>\n",
       "      <td>5d0b8aca0db7220b86cb4037</td>\n",
       "      <td>Nike Solid 4\" Swim Short</td>\n",
       "      <td>{'offer_price': {'currency': 'GBP', 'value': 1...</td>\n",
       "      <td>5cff5e7fe40f4900046735fa</td>\n",
       "      <td>335026</td>\n",
       "      <td>https://www.next.co.uk/style/st400645#335026</td>\n",
       "      <td>{'name': 'nike', 'sub_brand': ''}</td>\n",
       "      <td>{'standard': [{'order': 1, 'url': 'https://xcd...</td>\n",
       "      <td>Nike Swim Boys' Solid Lap 4 Volley Short is a ...</td>\n",
       "    </tr>\n",
       "    <tr>\n",
       "      <th>3</th>\n",
       "      <td>5d0b8aca0db7220b86cb4038</td>\n",
       "      <td>Collection Luxe Orchid</td>\n",
       "      <td>{'offer_price': {'currency': 'GBP', 'value': 1...</td>\n",
       "      <td>5cff5e7fe40f4900046735fa</td>\n",
       "      <td>552266</td>\n",
       "      <td>https://www.next.co.uk/style/st262195#552266</td>\n",
       "      <td>{'name': 'next', 'sub_brand': ''}</td>\n",
       "      <td>{'standard': [{'order': 1, 'url': 'https://xcd...</td>\n",
       "      <td>Height 85cm</td>\n",
       "    </tr>\n",
       "    <tr>\n",
       "      <th>4</th>\n",
       "      <td>5d0b8aca0db7220b86cb4039</td>\n",
       "      <td>River Island White Sleeveless Blazer</td>\n",
       "      <td>{'offer_price': {'currency': 'GBP', 'value': 5...</td>\n",
       "      <td>5cff5e7fe40f4900046735fa</td>\n",
       "      <td>680971</td>\n",
       "      <td>https://www.next.co.uk/style/st440132#680971</td>\n",
       "      <td>{'name': 'river island', 'sub_brand': ''}</td>\n",
       "      <td>{'standard': [{'order': 1, 'url': 'https://xcd...</td>\n",
       "      <td>100% Polyester.</td>\n",
       "    </tr>\n",
       "  </tbody>\n",
       "</table>\n",
       "</div>"
      ],
      "text/plain": [
       "                        _id                                  name  \\\n",
       "0  5d0b8aca0db7220b86cb4035   Joules Top Dog Underwear Three Pack   \n",
       "1  5d0b8aca0db7220b86cb4036    Figleaves Cheetah Satin Pyjama Set   \n",
       "2  5d0b8aca0db7220b86cb4037              Nike Solid 4\" Swim Short   \n",
       "3  5d0b8aca0db7220b86cb4038                Collection Luxe Orchid   \n",
       "4  5d0b8aca0db7220b86cb4039  River Island White Sleeveless Blazer   \n",
       "\n",
       "                                               price  \\\n",
       "0  {'offer_price': {'currency': 'GBP', 'value': 3...   \n",
       "1  {'offer_price': {'currency': 'GBP', 'value': 2...   \n",
       "2  {'offer_price': {'currency': 'GBP', 'value': 1...   \n",
       "3  {'offer_price': {'currency': 'GBP', 'value': 1...   \n",
       "4  {'offer_price': {'currency': 'GBP', 'value': 5...   \n",
       "\n",
       "                 website_id     sku  \\\n",
       "0  5cff5e7fe40f4900046735fa  312838   \n",
       "1  5cff5e7fe40f4900046735fa  319571   \n",
       "2  5cff5e7fe40f4900046735fa  335026   \n",
       "3  5cff5e7fe40f4900046735fa  552266   \n",
       "4  5cff5e7fe40f4900046735fa  680971   \n",
       "\n",
       "                                            url  \\\n",
       "0          www.next.co.uk/style/st355408#312838   \n",
       "1  https://www.next.co.uk/style/st324987#319571   \n",
       "2  https://www.next.co.uk/style/st400645#335026   \n",
       "3  https://www.next.co.uk/style/st262195#552266   \n",
       "4  https://www.next.co.uk/style/st440132#680971   \n",
       "\n",
       "                                       brand  \\\n",
       "0        {'name': 'joules', 'sub_brand': ''}   \n",
       "1     {'name': 'figleaves', 'sub_brand': ''}   \n",
       "2          {'name': 'nike', 'sub_brand': ''}   \n",
       "3          {'name': 'next', 'sub_brand': ''}   \n",
       "4  {'name': 'river island', 'sub_brand': ''}   \n",
       "\n",
       "                                               media  \\\n",
       "0  {'standard': [{'order': 1, 'url': 'https://xcd...   \n",
       "1  {'standard': [{'order': 1, 'url': 'https://xcd...   \n",
       "2  {'standard': [{'order': 1, 'url': 'https://xcd...   \n",
       "3  {'standard': [{'order': 1, 'url': 'https://xcd...   \n",
       "4  {'standard': [{'order': 1, 'url': 'https://xcd...   \n",
       "\n",
       "                                    description_text  \n",
       "0                           95% Cotton, 5% Elastane.  \n",
       "1                                    100% Polyester.  \n",
       "2  Nike Swim Boys' Solid Lap 4 Volley Short is a ...  \n",
       "3                                        Height 85cm  \n",
       "4                                    100% Polyester.  "
      ]
     },
     "execution_count": 5,
     "metadata": {},
     "output_type": "execute_result"
    }
   ],
   "source": [
    "new_dataframe.head()"
   ]
  },
  {
   "cell_type": "code",
   "execution_count": 6,
   "metadata": {},
   "outputs": [
    {
     "data": {
      "text/plain": [
       "Index(['_id', 'name', 'price', 'website_id', 'sku', 'url', 'brand', 'media',\n",
       "       'description_text'],\n",
       "      dtype='object')"
      ]
     },
     "execution_count": 6,
     "metadata": {},
     "output_type": "execute_result"
    }
   ],
   "source": [
    "new_dataframe.columns"
   ]
  },
  {
   "cell_type": "markdown",
   "metadata": {},
   "source": [
    "Here only 9 rows available in new_dataframe that we needs."
   ]
  },
  {
   "cell_type": "code",
   "execution_count": 7,
   "metadata": {},
   "outputs": [
    {
     "data": {
      "text/plain": [
       "0                              5d0b8aca0db7220b86cb4035\n",
       "1                              5d0b8aca0db7220b86cb4036\n",
       "2                              5d0b8aca0db7220b86cb4037\n",
       "3                              5d0b8aca0db7220b86cb4038\n",
       "4                              5d0b8aca0db7220b86cb4039\n",
       "5                              5d0b8aca0db7220b86cb403a\n",
       "6                              5d0b8aca0db7220b86cb403b\n",
       "7                              5d0b8acb0db7220b86cb403c\n",
       "8                              5d0b8acb0db7220b86cb403d\n",
       "9                              5d0b8acb0db7220b86cb403e\n",
       "10                             5d0b8acb0db7220b86cb403f\n",
       "11                             5d0b8acb0db7220b86cb4040\n",
       "12                             5d0b8acb0db7220b86cb4041\n",
       "13                             5d0b8acb0db7220b86cb4042\n",
       "14                             5d0b8acb0db7220b86cb4043\n",
       "15                             5d0b8acb0db7220b86cb4044\n",
       "16    Canvas upper with TOMS toe-stitch, and elastic...\n",
       "17    TOMS classic suede insole with cushion for com...\n",
       "18                  Latex arch insert for added support\n",
       "19     One-piece outsole for flexibility and durability\n",
       "Name: _id, dtype: object"
      ]
     },
     "execution_count": 7,
     "metadata": {},
     "output_type": "execute_result"
    }
   ],
   "source": [
    "new_dataframe['_id'].head(20)"
   ]
  },
  {
   "cell_type": "markdown",
   "metadata": {},
   "source": [
    "Here we find that in id column there are some wrong id's available so first we remove those id's on the basis of length of    \n",
    "valid 'id'.                                                                                                                   \n",
    "we take first id as our reference id. (valid id)                                                                             \n",
    "we fill 'NaN' value present in id column with '0'. Because we removing invalid 'id's with length.\n"
   ]
  },
  {
   "cell_type": "code",
   "execution_count": 8,
   "metadata": {},
   "outputs": [],
   "source": [
    "new_dataframe['_id'] = new_dataframe['_id'].fillna('0')"
   ]
  },
  {
   "cell_type": "markdown",
   "metadata": {},
   "source": [
    "#### Removing empty ROWS and invalid Rows"
   ]
  },
  {
   "cell_type": "code",
   "execution_count": 9,
   "metadata": {},
   "outputs": [],
   "source": [
    "for i in range(0, len(new_dataframe)):\n",
    "    if len(new_dataframe['_id'][i]) > len(new_dataframe['_id'][0]) or len(new_dataframe['_id'][i]) == 1:\n",
    "        new_dataframe.drop(i, inplace = True)"
   ]
  },
  {
   "cell_type": "markdown",
   "metadata": {},
   "source": [
    "#### Reseting index"
   ]
  },
  {
   "cell_type": "code",
   "execution_count": 10,
   "metadata": {},
   "outputs": [],
   "source": [
    "new_dataframe.reset_index(drop=True, inplace=True)"
   ]
  },
  {
   "cell_type": "markdown",
   "metadata": {},
   "source": [
    "#### Price data"
   ]
  },
  {
   "cell_type": "code",
   "execution_count": 11,
   "metadata": {},
   "outputs": [],
   "source": [
    "prices=new_dataframe['price'].fillna('0')      # fill NaN value with 0's for easily removal"
   ]
  },
  {
   "cell_type": "code",
   "execution_count": 12,
   "metadata": {},
   "outputs": [
    {
     "data": {
      "text/plain": [
       "321720"
      ]
     },
     "execution_count": 12,
     "metadata": {},
     "output_type": "execute_result"
    }
   ],
   "source": [
    "len(prices)"
   ]
  },
  {
   "cell_type": "markdown",
   "metadata": {},
   "source": [
    "#### Removing rows having 'Empty' price data"
   ]
  },
  {
   "cell_type": "code",
   "execution_count": 13,
   "metadata": {},
   "outputs": [],
   "source": [
    "for j in range(0,len(prices)):\n",
    "    entry=prices[j]\n",
    "    if len(entry) ==1:\n",
    "        new_dataframe.drop(j, inplace=True)"
   ]
  },
  {
   "cell_type": "code",
   "execution_count": 14,
   "metadata": {},
   "outputs": [],
   "source": [
    "new_dataframe.reset_index(drop=True, inplace= True)    # reset index again"
   ]
  },
  {
   "cell_type": "markdown",
   "metadata": {},
   "source": [
    "#### Removing rows having offer price > regular_price and price value= None"
   ]
  },
  {
   "cell_type": "code",
   "execution_count": 15,
   "metadata": {},
   "outputs": [],
   "source": [
    "import re\n",
    "for i in range(0,len(new_dataframe)):\n",
    "    \n",
    "    if re.findall(\"[+-]?\\d+\\.\\d+\",new_dataframe['price'][i]) == []:\n",
    "        new_dataframe.drop(i, inplace=True)\n",
    "    else:\n",
    "            \n",
    "        a=re.findall(\"[+-]?\\d+\\.\\d+\", new_dataframe['price'][i])\n",
    "        offer_price=float(a[0])\n",
    "        regular_price=float(a[1])\n",
    "        if offer_price > regular_price:\n",
    "            new_dataframe.drop(i, inplace=True)\n",
    "            \n",
    "    "
   ]
  },
  {
   "cell_type": "code",
   "execution_count": 16,
   "metadata": {},
   "outputs": [],
   "source": [
    "new_dataframe.reset_index(drop=True, inplace=True)"
   ]
  },
  {
   "cell_type": "code",
   "execution_count": 17,
   "metadata": {},
   "outputs": [
    {
     "data": {
      "text/plain": [
       "319125"
      ]
     },
     "execution_count": 17,
     "metadata": {},
     "output_type": "execute_result"
    }
   ],
   "source": [
    "len(new_dataframe)"
   ]
  },
  {
   "cell_type": "markdown",
   "metadata": {},
   "source": [
    "#### Removing invalid 'Urls'"
   ]
  },
  {
   "cell_type": "code",
   "execution_count": 18,
   "metadata": {},
   "outputs": [
    {
     "data": {
      "text/plain": [
       "0            www.next.co.uk/style/st355408#312838\n",
       "1    https://www.next.co.uk/style/st324987#319571\n",
       "2    https://www.next.co.uk/style/st400645#335026\n",
       "3    https://www.next.co.uk/style/st262195#552266\n",
       "4    https://www.next.co.uk/style/st440132#680971\n",
       "Name: url, dtype: object"
      ]
     },
     "execution_count": 18,
     "metadata": {},
     "output_type": "execute_result"
    }
   ],
   "source": [
    "urls=new_dataframe['url']        # extract urls from data frame\n",
    "urls.head()"
   ]
  },
  {
   "cell_type": "code",
   "execution_count": 19,
   "metadata": {},
   "outputs": [],
   "source": [
    "from validator_collection import validators, checkers\n",
    "\n",
    "for index in range(0,len(urls)):\n",
    "    url=urls[index]\n",
    "    if checkers.is_url(url) == False :\n",
    "        new_dataframe.drop(index, inplace= True)\n",
    "\n"
   ]
  },
  {
   "cell_type": "code",
   "execution_count": 20,
   "metadata": {},
   "outputs": [],
   "source": [
    "new_dataframe.reset_index(drop= True, inplace= True)      # Reseting the index of dataframe again"
   ]
  },
  {
   "cell_type": "code",
   "execution_count": 21,
   "metadata": {},
   "outputs": [
    {
     "data": {
      "text/html": [
       "<div>\n",
       "<style scoped>\n",
       "    .dataframe tbody tr th:only-of-type {\n",
       "        vertical-align: middle;\n",
       "    }\n",
       "\n",
       "    .dataframe tbody tr th {\n",
       "        vertical-align: top;\n",
       "    }\n",
       "\n",
       "    .dataframe thead th {\n",
       "        text-align: right;\n",
       "    }\n",
       "</style>\n",
       "<table border=\"1\" class=\"dataframe\">\n",
       "  <thead>\n",
       "    <tr style=\"text-align: right;\">\n",
       "      <th></th>\n",
       "      <th>_id</th>\n",
       "      <th>name</th>\n",
       "      <th>price</th>\n",
       "      <th>website_id</th>\n",
       "      <th>sku</th>\n",
       "      <th>url</th>\n",
       "      <th>brand</th>\n",
       "      <th>media</th>\n",
       "      <th>description_text</th>\n",
       "    </tr>\n",
       "  </thead>\n",
       "  <tbody>\n",
       "    <tr>\n",
       "      <th>0</th>\n",
       "      <td>5d0b8aca0db7220b86cb4036</td>\n",
       "      <td>Figleaves Cheetah Satin Pyjama Set</td>\n",
       "      <td>{'offer_price': {'currency': 'GBP', 'value': 2...</td>\n",
       "      <td>5cff5e7fe40f4900046735fa</td>\n",
       "      <td>319571</td>\n",
       "      <td>https://www.next.co.uk/style/st324987#319571</td>\n",
       "      <td>{'name': 'figleaves', 'sub_brand': ''}</td>\n",
       "      <td>{'standard': [{'order': 1, 'url': 'https://xcd...</td>\n",
       "      <td>100% Polyester.</td>\n",
       "    </tr>\n",
       "    <tr>\n",
       "      <th>1</th>\n",
       "      <td>5d0b8aca0db7220b86cb4037</td>\n",
       "      <td>Nike Solid 4\" Swim Short</td>\n",
       "      <td>{'offer_price': {'currency': 'GBP', 'value': 1...</td>\n",
       "      <td>5cff5e7fe40f4900046735fa</td>\n",
       "      <td>335026</td>\n",
       "      <td>https://www.next.co.uk/style/st400645#335026</td>\n",
       "      <td>{'name': 'nike', 'sub_brand': ''}</td>\n",
       "      <td>{'standard': [{'order': 1, 'url': 'https://xcd...</td>\n",
       "      <td>Nike Swim Boys' Solid Lap 4 Volley Short is a ...</td>\n",
       "    </tr>\n",
       "    <tr>\n",
       "      <th>2</th>\n",
       "      <td>5d0b8aca0db7220b86cb4038</td>\n",
       "      <td>Collection Luxe Orchid</td>\n",
       "      <td>{'offer_price': {'currency': 'GBP', 'value': 1...</td>\n",
       "      <td>5cff5e7fe40f4900046735fa</td>\n",
       "      <td>552266</td>\n",
       "      <td>https://www.next.co.uk/style/st262195#552266</td>\n",
       "      <td>{'name': 'next', 'sub_brand': ''}</td>\n",
       "      <td>{'standard': [{'order': 1, 'url': 'https://xcd...</td>\n",
       "      <td>Height 85cm</td>\n",
       "    </tr>\n",
       "    <tr>\n",
       "      <th>3</th>\n",
       "      <td>5d0b8aca0db7220b86cb4039</td>\n",
       "      <td>River Island White Sleeveless Blazer</td>\n",
       "      <td>{'offer_price': {'currency': 'GBP', 'value': 5...</td>\n",
       "      <td>5cff5e7fe40f4900046735fa</td>\n",
       "      <td>680971</td>\n",
       "      <td>https://www.next.co.uk/style/st440132#680971</td>\n",
       "      <td>{'name': 'river island', 'sub_brand': ''}</td>\n",
       "      <td>{'standard': [{'order': 1, 'url': 'https://xcd...</td>\n",
       "      <td>100% Polyester.</td>\n",
       "    </tr>\n",
       "    <tr>\n",
       "      <th>4</th>\n",
       "      <td>5d0b8aca0db7220b86cb403a</td>\n",
       "      <td>Faith Animal Print Heel</td>\n",
       "      <td>{'offer_price': {'currency': 'GBP', 'value': 5...</td>\n",
       "      <td>5cff5e7fe40f4900046735fa</td>\n",
       "      <td>L07550</td>\n",
       "      <td>https://www.next.co.uk/style/esl07550#l07550</td>\n",
       "      <td>{'name': 'faith', 'sub_brand': ''}</td>\n",
       "      <td>{'standard': [{'order': 1, 'url': 'https://xcd...</td>\n",
       "      <td>In a leopard print this tie up heel.</td>\n",
       "    </tr>\n",
       "  </tbody>\n",
       "</table>\n",
       "</div>"
      ],
      "text/plain": [
       "                        _id                                  name  \\\n",
       "0  5d0b8aca0db7220b86cb4036    Figleaves Cheetah Satin Pyjama Set   \n",
       "1  5d0b8aca0db7220b86cb4037              Nike Solid 4\" Swim Short   \n",
       "2  5d0b8aca0db7220b86cb4038                Collection Luxe Orchid   \n",
       "3  5d0b8aca0db7220b86cb4039  River Island White Sleeveless Blazer   \n",
       "4  5d0b8aca0db7220b86cb403a               Faith Animal Print Heel   \n",
       "\n",
       "                                               price  \\\n",
       "0  {'offer_price': {'currency': 'GBP', 'value': 2...   \n",
       "1  {'offer_price': {'currency': 'GBP', 'value': 1...   \n",
       "2  {'offer_price': {'currency': 'GBP', 'value': 1...   \n",
       "3  {'offer_price': {'currency': 'GBP', 'value': 5...   \n",
       "4  {'offer_price': {'currency': 'GBP', 'value': 5...   \n",
       "\n",
       "                 website_id     sku  \\\n",
       "0  5cff5e7fe40f4900046735fa  319571   \n",
       "1  5cff5e7fe40f4900046735fa  335026   \n",
       "2  5cff5e7fe40f4900046735fa  552266   \n",
       "3  5cff5e7fe40f4900046735fa  680971   \n",
       "4  5cff5e7fe40f4900046735fa  L07550   \n",
       "\n",
       "                                            url  \\\n",
       "0  https://www.next.co.uk/style/st324987#319571   \n",
       "1  https://www.next.co.uk/style/st400645#335026   \n",
       "2  https://www.next.co.uk/style/st262195#552266   \n",
       "3  https://www.next.co.uk/style/st440132#680971   \n",
       "4  https://www.next.co.uk/style/esl07550#l07550   \n",
       "\n",
       "                                       brand  \\\n",
       "0     {'name': 'figleaves', 'sub_brand': ''}   \n",
       "1          {'name': 'nike', 'sub_brand': ''}   \n",
       "2          {'name': 'next', 'sub_brand': ''}   \n",
       "3  {'name': 'river island', 'sub_brand': ''}   \n",
       "4         {'name': 'faith', 'sub_brand': ''}   \n",
       "\n",
       "                                               media  \\\n",
       "0  {'standard': [{'order': 1, 'url': 'https://xcd...   \n",
       "1  {'standard': [{'order': 1, 'url': 'https://xcd...   \n",
       "2  {'standard': [{'order': 1, 'url': 'https://xcd...   \n",
       "3  {'standard': [{'order': 1, 'url': 'https://xcd...   \n",
       "4  {'standard': [{'order': 1, 'url': 'https://xcd...   \n",
       "\n",
       "                                    description_text  \n",
       "0                                    100% Polyester.  \n",
       "1  Nike Swim Boys' Solid Lap 4 Volley Short is a ...  \n",
       "2                                        Height 85cm  \n",
       "3                                    100% Polyester.  \n",
       "4               In a leopard print this tie up heel.  "
      ]
     },
     "execution_count": 21,
     "metadata": {},
     "output_type": "execute_result"
    }
   ],
   "source": [
    "new_dataframe.head()"
   ]
  },
  {
   "cell_type": "code",
   "execution_count": 22,
   "metadata": {},
   "outputs": [
    {
     "data": {
      "text/plain": [
       "319107"
      ]
     },
     "execution_count": 22,
     "metadata": {},
     "output_type": "execute_result"
    }
   ],
   "source": [
    "len(new_dataframe)"
   ]
  },
  {
   "cell_type": "markdown",
   "metadata": {},
   "source": [
    "### Analysing sentances in  Text data"
   ]
  },
  {
   "cell_type": "code",
   "execution_count": 23,
   "metadata": {},
   "outputs": [],
   "source": [
    "text_data=new_dataframe['description_text'].fillna('0')   # fill NAN value with 0's "
   ]
  },
  {
   "cell_type": "code",
   "execution_count": 24,
   "metadata": {},
   "outputs": [
    {
     "data": {
      "text/plain": [
       "0                                      100% Polyester.\n",
       "1    Nike Swim Boys' Solid Lap 4 Volley Short is a ...\n",
       "2                                          Height 85cm\n",
       "3                                      100% Polyester.\n",
       "4                 In a leopard print this tie up heel.\n",
       "5                 70% Viscose, 26% Nylon, 4% Elastane.\n",
       "6    Wish your loved one a Hoppy Birthday with this...\n",
       "7                     With adjustable strap fastening.\n",
       "8    18 carat gold-plated sterling silver. Comes in...\n",
       "9                                With blackout lining.\n",
       "Name: description_text, dtype: object"
      ]
     },
     "execution_count": 24,
     "metadata": {},
     "output_type": "execute_result"
    }
   ],
   "source": [
    "text_data.head(10)"
   ]
  },
  {
   "cell_type": "markdown",
   "metadata": {},
   "source": [
    "#### Count Words present in text data"
   ]
  },
  {
   "cell_type": "code",
   "execution_count": 25,
   "metadata": {},
   "outputs": [],
   "source": [
    "new_dataframe['word_count'] = new_dataframe['description_text'].apply(lambda x: len(str(x).split(\" \")))\n"
   ]
  },
  {
   "cell_type": "code",
   "execution_count": 26,
   "metadata": {},
   "outputs": [
    {
     "data": {
      "text/html": [
       "<div>\n",
       "<style scoped>\n",
       "    .dataframe tbody tr th:only-of-type {\n",
       "        vertical-align: middle;\n",
       "    }\n",
       "\n",
       "    .dataframe tbody tr th {\n",
       "        vertical-align: top;\n",
       "    }\n",
       "\n",
       "    .dataframe thead th {\n",
       "        text-align: right;\n",
       "    }\n",
       "</style>\n",
       "<table border=\"1\" class=\"dataframe\">\n",
       "  <thead>\n",
       "    <tr style=\"text-align: right;\">\n",
       "      <th></th>\n",
       "      <th>description_text</th>\n",
       "      <th>word_count</th>\n",
       "    </tr>\n",
       "  </thead>\n",
       "  <tbody>\n",
       "    <tr>\n",
       "      <th>0</th>\n",
       "      <td>100% Polyester.</td>\n",
       "      <td>2</td>\n",
       "    </tr>\n",
       "    <tr>\n",
       "      <th>1</th>\n",
       "      <td>Nike Swim Boys' Solid Lap 4 Volley Short is a ...</td>\n",
       "      <td>51</td>\n",
       "    </tr>\n",
       "    <tr>\n",
       "      <th>2</th>\n",
       "      <td>Height 85cm</td>\n",
       "      <td>3</td>\n",
       "    </tr>\n",
       "    <tr>\n",
       "      <th>3</th>\n",
       "      <td>100% Polyester.</td>\n",
       "      <td>2</td>\n",
       "    </tr>\n",
       "    <tr>\n",
       "      <th>4</th>\n",
       "      <td>In a leopard print this tie up heel.</td>\n",
       "      <td>8</td>\n",
       "    </tr>\n",
       "    <tr>\n",
       "      <th>5</th>\n",
       "      <td>70% Viscose, 26% Nylon, 4% Elastane.</td>\n",
       "      <td>6</td>\n",
       "    </tr>\n",
       "    <tr>\n",
       "      <th>6</th>\n",
       "      <td>Wish your loved one a Hoppy Birthday with this...</td>\n",
       "      <td>72</td>\n",
       "    </tr>\n",
       "    <tr>\n",
       "      <th>7</th>\n",
       "      <td>With adjustable strap fastening.</td>\n",
       "      <td>4</td>\n",
       "    </tr>\n",
       "    <tr>\n",
       "      <th>8</th>\n",
       "      <td>18 carat gold-plated sterling silver. Comes in...</td>\n",
       "      <td>10</td>\n",
       "    </tr>\n",
       "    <tr>\n",
       "      <th>9</th>\n",
       "      <td>With blackout lining.</td>\n",
       "      <td>3</td>\n",
       "    </tr>\n",
       "  </tbody>\n",
       "</table>\n",
       "</div>"
      ],
      "text/plain": [
       "                                    description_text  word_count\n",
       "0                                    100% Polyester.           2\n",
       "1  Nike Swim Boys' Solid Lap 4 Volley Short is a ...          51\n",
       "2                                        Height 85cm           3\n",
       "3                                    100% Polyester.           2\n",
       "4               In a leopard print this tie up heel.           8\n",
       "5               70% Viscose, 26% Nylon, 4% Elastane.           6\n",
       "6  Wish your loved one a Hoppy Birthday with this...          72\n",
       "7                   With adjustable strap fastening.           4\n",
       "8  18 carat gold-plated sterling silver. Comes in...          10\n",
       "9                              With blackout lining.           3"
      ]
     },
     "execution_count": 26,
     "metadata": {},
     "output_type": "execute_result"
    }
   ],
   "source": [
    "new_dataframe[['description_text','word_count']].head(10)"
   ]
  },
  {
   "cell_type": "markdown",
   "metadata": {},
   "source": [
    "### Number of characters"
   ]
  },
  {
   "cell_type": "code",
   "execution_count": 27,
   "metadata": {},
   "outputs": [
    {
     "data": {
      "text/html": [
       "<div>\n",
       "<style scoped>\n",
       "    .dataframe tbody tr th:only-of-type {\n",
       "        vertical-align: middle;\n",
       "    }\n",
       "\n",
       "    .dataframe tbody tr th {\n",
       "        vertical-align: top;\n",
       "    }\n",
       "\n",
       "    .dataframe thead th {\n",
       "        text-align: right;\n",
       "    }\n",
       "</style>\n",
       "<table border=\"1\" class=\"dataframe\">\n",
       "  <thead>\n",
       "    <tr style=\"text-align: right;\">\n",
       "      <th></th>\n",
       "      <th>description_text</th>\n",
       "      <th>char_count</th>\n",
       "    </tr>\n",
       "  </thead>\n",
       "  <tbody>\n",
       "    <tr>\n",
       "      <th>0</th>\n",
       "      <td>100% Polyester.</td>\n",
       "      <td>15.0</td>\n",
       "    </tr>\n",
       "    <tr>\n",
       "      <th>1</th>\n",
       "      <td>Nike Swim Boys' Solid Lap 4 Volley Short is a ...</td>\n",
       "      <td>312.0</td>\n",
       "    </tr>\n",
       "    <tr>\n",
       "      <th>2</th>\n",
       "      <td>Height 85cm</td>\n",
       "      <td>12.0</td>\n",
       "    </tr>\n",
       "    <tr>\n",
       "      <th>3</th>\n",
       "      <td>100% Polyester.</td>\n",
       "      <td>15.0</td>\n",
       "    </tr>\n",
       "    <tr>\n",
       "      <th>4</th>\n",
       "      <td>In a leopard print this tie up heel.</td>\n",
       "      <td>36.0</td>\n",
       "    </tr>\n",
       "  </tbody>\n",
       "</table>\n",
       "</div>"
      ],
      "text/plain": [
       "                                    description_text  char_count\n",
       "0                                    100% Polyester.        15.0\n",
       "1  Nike Swim Boys' Solid Lap 4 Volley Short is a ...       312.0\n",
       "2                                        Height 85cm        12.0\n",
       "3                                    100% Polyester.        15.0\n",
       "4               In a leopard print this tie up heel.        36.0"
      ]
     },
     "execution_count": 27,
     "metadata": {},
     "output_type": "execute_result"
    }
   ],
   "source": [
    "new_dataframe['char_count'] = new_dataframe['description_text'].str.len() ## this also includes spaces\n",
    "new_dataframe[['description_text','char_count']].head()"
   ]
  },
  {
   "cell_type": "code",
   "execution_count": 28,
   "metadata": {},
   "outputs": [
    {
     "data": {
      "text/plain": [
       "0                                      100% Polyester.\n",
       "1    Nike Swim Boys' Solid Lap 4 Volley Short is a ...\n",
       "2                                          Height 85cm\n",
       "3                                      100% Polyester.\n",
       "4                 In a leopard print this tie up heel.\n",
       "Name: description_text, dtype: object"
      ]
     },
     "execution_count": 28,
     "metadata": {},
     "output_type": "execute_result"
    }
   ],
   "source": [
    "new_dataframe['description_text'].head()"
   ]
  },
  {
   "cell_type": "markdown",
   "metadata": {},
   "source": [
    "### Number of stopwords"
   ]
  },
  {
   "cell_type": "code",
   "execution_count": 31,
   "metadata": {},
   "outputs": [
    {
     "data": {
      "text/html": [
       "<div>\n",
       "<style scoped>\n",
       "    .dataframe tbody tr th:only-of-type {\n",
       "        vertical-align: middle;\n",
       "    }\n",
       "\n",
       "    .dataframe tbody tr th {\n",
       "        vertical-align: top;\n",
       "    }\n",
       "\n",
       "    .dataframe thead th {\n",
       "        text-align: right;\n",
       "    }\n",
       "</style>\n",
       "<table border=\"1\" class=\"dataframe\">\n",
       "  <thead>\n",
       "    <tr style=\"text-align: right;\">\n",
       "      <th></th>\n",
       "      <th>description_text</th>\n",
       "      <th>stopwords</th>\n",
       "    </tr>\n",
       "  </thead>\n",
       "  <tbody>\n",
       "    <tr>\n",
       "      <th>0</th>\n",
       "      <td>100% Polyester.</td>\n",
       "      <td>0</td>\n",
       "    </tr>\n",
       "    <tr>\n",
       "      <th>1</th>\n",
       "      <td>Nike Swim Boys' Solid Lap 4 Volley Short is a ...</td>\n",
       "      <td>14</td>\n",
       "    </tr>\n",
       "    <tr>\n",
       "      <th>2</th>\n",
       "      <td>Height 85cm</td>\n",
       "      <td>0</td>\n",
       "    </tr>\n",
       "    <tr>\n",
       "      <th>3</th>\n",
       "      <td>100% Polyester.</td>\n",
       "      <td>0</td>\n",
       "    </tr>\n",
       "    <tr>\n",
       "      <th>4</th>\n",
       "      <td>In a leopard print this tie up heel.</td>\n",
       "      <td>3</td>\n",
       "    </tr>\n",
       "  </tbody>\n",
       "</table>\n",
       "</div>"
      ],
      "text/plain": [
       "                                    description_text  stopwords\n",
       "0                                    100% Polyester.          0\n",
       "1  Nike Swim Boys' Solid Lap 4 Volley Short is a ...         14\n",
       "2                                        Height 85cm          0\n",
       "3                                    100% Polyester.          0\n",
       "4               In a leopard print this tie up heel.          3"
      ]
     },
     "execution_count": 31,
     "metadata": {},
     "output_type": "execute_result"
    }
   ],
   "source": [
    "from nltk.corpus import stopwords\n",
    "stop = stopwords.words('english')\n",
    "\n",
    "new_dataframe['stopwords']=text_data.apply(lambda x: len([x for x in x.split() if x in stop]))\n",
    "new_dataframe[['description_text','stopwords']].head()"
   ]
  },
  {
   "cell_type": "markdown",
   "metadata": {},
   "source": [
    "### Text Pre-Processing"
   ]
  },
  {
   "cell_type": "markdown",
   "metadata": {},
   "source": [
    "#### Lower case"
   ]
  },
  {
   "cell_type": "code",
   "execution_count": 32,
   "metadata": {},
   "outputs": [
    {
     "data": {
      "text/plain": [
       "0                                      100% polyester.\n",
       "1    nike swim boys' solid lap 4 volley short is a ...\n",
       "2                                          height 85cm\n",
       "3                                      100% polyester.\n",
       "4                 in a leopard print this tie up heel.\n",
       "Name: description_text, dtype: object"
      ]
     },
     "execution_count": 32,
     "metadata": {},
     "output_type": "execute_result"
    }
   ],
   "source": [
    "text_data = text_data.apply(lambda x: \" \".join(x.lower() for x in x.split()))\n",
    "text_data.head()"
   ]
  },
  {
   "cell_type": "markdown",
   "metadata": {},
   "source": [
    "#### Removing punctuation"
   ]
  },
  {
   "cell_type": "code",
   "execution_count": 33,
   "metadata": {},
   "outputs": [
    {
     "data": {
      "text/plain": [
       "0                                        100 polyester\n",
       "1    nike swim boys solid lap 4 volley short is a d...\n",
       "2                                          height 85cm\n",
       "3                                        100 polyester\n",
       "4                  in a leopard print this tie up heel\n",
       "Name: description_text, dtype: object"
      ]
     },
     "execution_count": 33,
     "metadata": {},
     "output_type": "execute_result"
    }
   ],
   "source": [
    "text_data = text_data.str.replace('[^\\w\\s]','')\n",
    "text_data.head()"
   ]
  },
  {
   "cell_type": "markdown",
   "metadata": {},
   "source": [
    "#### Removing Stopwords"
   ]
  },
  {
   "cell_type": "code",
   "execution_count": 34,
   "metadata": {},
   "outputs": [
    {
     "data": {
      "text/plain": [
       "0                                        100 polyester\n",
       "1    nike swim boys solid lap 4 volley short dual p...\n",
       "2                                          height 85cm\n",
       "3                                        100 polyester\n",
       "4                               leopard print tie heel\n",
       "Name: description_text, dtype: object"
      ]
     },
     "execution_count": 34,
     "metadata": {},
     "output_type": "execute_result"
    }
   ],
   "source": [
    "stop = stopwords.words('english')\n",
    "text_data= text_data.apply(lambda x: \" \".join(x for x in x.split() if x not in stop))\n",
    "text_data.head()"
   ]
  },
  {
   "cell_type": "markdown",
   "metadata": {},
   "source": [
    "#### Removing Common Words"
   ]
  },
  {
   "cell_type": "markdown",
   "metadata": {},
   "source": [
    "We will remove commonly occurring words from our text data First, let’s check the 10 most frequently occurring words in our text data then take call to remove or retain."
   ]
  },
  {
   "cell_type": "code",
   "execution_count": 35,
   "metadata": {},
   "outputs": [
    {
     "data": {
      "text/plain": [
       "featuring    102489\n",
       "fit           94355\n",
       "design        65225\n",
       "fastening     61894\n",
       "sleeves       56784\n",
       "neck          55814\n",
       "front         55519\n",
       "black         48249\n",
       "cotton        47787\n",
       "logo          47024\n",
       "dtype: int64"
      ]
     },
     "execution_count": 35,
     "metadata": {},
     "output_type": "execute_result"
    }
   ],
   "source": [
    "freq = pd.Series(' '.join(text_data).split()).value_counts()[:10]\n",
    "freq"
   ]
  },
  {
   "cell_type": "code",
   "execution_count": 36,
   "metadata": {},
   "outputs": [
    {
     "data": {
      "text/plain": [
       "0                                        100 polyester\n",
       "1    nike swim boys solid lap 4 volley short dual p...\n",
       "2                                          height 85cm\n",
       "3                                        100 polyester\n",
       "4                               leopard print tie heel\n",
       "Name: description_text, dtype: object"
      ]
     },
     "execution_count": 36,
     "metadata": {},
     "output_type": "execute_result"
    }
   ],
   "source": [
    "freq = list(freq.index)\n",
    "text_data = text_data.apply(lambda x: \" \".join(x for x in x.split() if x not in freq))\n",
    "text_data.head()"
   ]
  },
  {
   "cell_type": "markdown",
   "metadata": {},
   "source": [
    "#### Removing Rare Words"
   ]
  },
  {
   "cell_type": "code",
   "execution_count": 37,
   "metadata": {},
   "outputs": [
    {
     "data": {
      "text/plain": [
       "0                                        100 polyester\n",
       "1    nike swim boys solid lap 4 volley short dual p...\n",
       "2                                          height 85cm\n",
       "3                                        100 polyester\n",
       "4                               leopard print tie heel\n",
       "Name: description_text, dtype: object"
      ]
     },
     "execution_count": 37,
     "metadata": {},
     "output_type": "execute_result"
    }
   ],
   "source": [
    "freq = pd.Series(' '.join(text_data).split()).value_counts()[-10:]\n",
    "freq = list(freq.index)\n",
    "text_data = text_data.apply(lambda x: \" \".join(x for x in x.split() if x not in freq))\n",
    "text_data.head()\n"
   ]
  },
  {
   "cell_type": "markdown",
   "metadata": {},
   "source": [
    "#### spellings Correction"
   ]
  },
  {
   "cell_type": "code",
   "execution_count": 38,
   "metadata": {},
   "outputs": [
    {
     "data": {
      "text/plain": [
       "0                                        100 polyester\n",
       "1    like swim boys solid lap 4 volley short dual p...\n",
       "2                                            height cm\n",
       "3                                        100 polyester\n",
       "4                               leopard print tie heel\n",
       "5                           70 dispose 26 non 4 latane\n",
       "6    wish loved one happy birthday beer hawk birthd...\n",
       "7                                     adjustable strap\n",
       "8    18 cart goldplated sterling silver comes gift box\n",
       "9                                      blackest lining\n",
       "Name: description_text, dtype: object"
      ]
     },
     "execution_count": 38,
     "metadata": {},
     "output_type": "execute_result"
    }
   ],
   "source": [
    "from textblob import TextBlob\n",
    "text_data[:10].apply(lambda x: str(TextBlob(x).correct()))"
   ]
  },
  {
   "cell_type": "markdown",
   "metadata": {},
   "source": [
    "#### Tokenization"
   ]
  },
  {
   "cell_type": "code",
   "execution_count": 39,
   "metadata": {},
   "outputs": [
    {
     "name": "stderr",
     "output_type": "stream",
     "text": [
      "[nltk_data] Downloading package punkt to\n",
      "[nltk_data]     C:\\Users\\RAJ\\AppData\\Roaming\\nltk_data...\n",
      "[nltk_data]   Package punkt is already up-to-date!\n"
     ]
    },
    {
     "data": {
      "text/plain": [
       "WordList(['nike', 'swim', 'boys', 'solid', 'lap', '4', 'volley', 'short', 'dual', 'purpose', 'swimming', 'short', 'ideal', 'practice', 'laps', 'recreational', 'swimming', 'waterrepellent', 'fabric', 'soft', 'next', 'skin', 'stretch', 'waistband', 'inside', 'drawcord', 'builtin', 'mesh', 'brief', 'provide', 'support', 'great', 'dives', 'flips', 'cannonballs'])"
      ]
     },
     "execution_count": 39,
     "metadata": {},
     "output_type": "execute_result"
    }
   ],
   "source": [
    "import nltk\n",
    "nltk.download('punkt')\n",
    "\n",
    "TextBlob(text_data[1]).words"
   ]
  },
  {
   "cell_type": "markdown",
   "metadata": {},
   "source": [
    "#### Stemming"
   ]
  },
  {
   "cell_type": "code",
   "execution_count": 40,
   "metadata": {},
   "outputs": [
    {
     "data": {
      "text/plain": [
       "0                                          100 polyest\n",
       "1    nike swim boy solid lap 4 volley short dual pu...\n",
       "2                                          height 85cm\n",
       "3                                          100 polyest\n",
       "4                               leopard print tie heel\n",
       "Name: description_text, dtype: object"
      ]
     },
     "execution_count": 40,
     "metadata": {},
     "output_type": "execute_result"
    }
   ],
   "source": [
    "from nltk.stem import PorterStemmer\n",
    "st = PorterStemmer()\n",
    "text_data[:5].apply(lambda x: \" \".join([st.stem(word) for word in x.split()]))"
   ]
  },
  {
   "cell_type": "markdown",
   "metadata": {},
   "source": [
    "#### Lemmatization"
   ]
  },
  {
   "cell_type": "code",
   "execution_count": 41,
   "metadata": {},
   "outputs": [
    {
     "name": "stderr",
     "output_type": "stream",
     "text": [
      "[nltk_data] Downloading package wordnet to\n",
      "[nltk_data]     C:\\Users\\RAJ\\AppData\\Roaming\\nltk_data...\n",
      "[nltk_data]   Package wordnet is already up-to-date!\n"
     ]
    },
    {
     "data": {
      "text/plain": [
       "0                                        100 polyester\n",
       "1    nike swim boy solid lap 4 volley short dual pu...\n",
       "2                                          height 85cm\n",
       "3                                        100 polyester\n",
       "4                               leopard print tie heel\n",
       "Name: description_text, dtype: object"
      ]
     },
     "execution_count": 41,
     "metadata": {},
     "output_type": "execute_result"
    }
   ],
   "source": [
    "from textblob import Word\n",
    "import nltk\n",
    "nltk.download('wordnet')\n",
    "\n",
    "text_data = text_data.apply(lambda x: \" \".join([Word(word).lemmatize() for word in x.split()]))\n",
    "text_data.head()"
   ]
  },
  {
   "cell_type": "markdown",
   "metadata": {},
   "source": [
    "## Text Processing"
   ]
  },
  {
   "cell_type": "markdown",
   "metadata": {},
   "source": [
    "#### N-Grams"
   ]
  },
  {
   "cell_type": "code",
   "execution_count": 42,
   "metadata": {},
   "outputs": [
    {
     "data": {
      "text/plain": [
       "[WordList(['100', 'polyester'])]"
      ]
     },
     "execution_count": 42,
     "metadata": {},
     "output_type": "execute_result"
    }
   ],
   "source": [
    "TextBlob(text_data[0]).ngrams(2)"
   ]
  },
  {
   "cell_type": "markdown",
   "metadata": {},
   "source": [
    "#### Term-Frequency"
   ]
  },
  {
   "cell_type": "code",
   "execution_count": 43,
   "metadata": {},
   "outputs": [
    {
     "data": {
      "text/html": [
       "<div>\n",
       "<style scoped>\n",
       "    .dataframe tbody tr th:only-of-type {\n",
       "        vertical-align: middle;\n",
       "    }\n",
       "\n",
       "    .dataframe tbody tr th {\n",
       "        vertical-align: top;\n",
       "    }\n",
       "\n",
       "    .dataframe thead th {\n",
       "        text-align: right;\n",
       "    }\n",
       "</style>\n",
       "<table border=\"1\" class=\"dataframe\">\n",
       "  <thead>\n",
       "    <tr style=\"text-align: right;\">\n",
       "      <th></th>\n",
       "      <th>words</th>\n",
       "      <th>tf</th>\n",
       "    </tr>\n",
       "  </thead>\n",
       "  <tbody>\n",
       "    <tr>\n",
       "      <th>0</th>\n",
       "      <td>polyester</td>\n",
       "      <td>1.0</td>\n",
       "    </tr>\n",
       "    <tr>\n",
       "      <th>1</th>\n",
       "      <td>100</td>\n",
       "      <td>1.0</td>\n",
       "    </tr>\n",
       "    <tr>\n",
       "      <th>2</th>\n",
       "      <td>short</td>\n",
       "      <td>2.0</td>\n",
       "    </tr>\n",
       "    <tr>\n",
       "      <th>3</th>\n",
       "      <td>swimming</td>\n",
       "      <td>2.0</td>\n",
       "    </tr>\n",
       "    <tr>\n",
       "      <th>4</th>\n",
       "      <td>lap</td>\n",
       "      <td>2.0</td>\n",
       "    </tr>\n",
       "    <tr>\n",
       "      <th>5</th>\n",
       "      <td>practice</td>\n",
       "      <td>1.0</td>\n",
       "    </tr>\n",
       "    <tr>\n",
       "      <th>6</th>\n",
       "      <td>inside</td>\n",
       "      <td>1.0</td>\n",
       "    </tr>\n",
       "    <tr>\n",
       "      <th>7</th>\n",
       "      <td>ideal</td>\n",
       "      <td>1.0</td>\n",
       "    </tr>\n",
       "    <tr>\n",
       "      <th>8</th>\n",
       "      <td>solid</td>\n",
       "      <td>1.0</td>\n",
       "    </tr>\n",
       "    <tr>\n",
       "      <th>9</th>\n",
       "      <td>stretch</td>\n",
       "      <td>1.0</td>\n",
       "    </tr>\n",
       "    <tr>\n",
       "      <th>10</th>\n",
       "      <td>brief</td>\n",
       "      <td>1.0</td>\n",
       "    </tr>\n",
       "    <tr>\n",
       "      <th>11</th>\n",
       "      <td>soft</td>\n",
       "      <td>1.0</td>\n",
       "    </tr>\n",
       "    <tr>\n",
       "      <th>12</th>\n",
       "      <td>purpose</td>\n",
       "      <td>1.0</td>\n",
       "    </tr>\n",
       "    <tr>\n",
       "      <th>13</th>\n",
       "      <td>fabric</td>\n",
       "      <td>1.0</td>\n",
       "    </tr>\n",
       "    <tr>\n",
       "      <th>14</th>\n",
       "      <td>recreational</td>\n",
       "      <td>1.0</td>\n",
       "    </tr>\n",
       "    <tr>\n",
       "      <th>15</th>\n",
       "      <td>drawcord</td>\n",
       "      <td>1.0</td>\n",
       "    </tr>\n",
       "    <tr>\n",
       "      <th>16</th>\n",
       "      <td>cannonball</td>\n",
       "      <td>1.0</td>\n",
       "    </tr>\n",
       "    <tr>\n",
       "      <th>17</th>\n",
       "      <td>support</td>\n",
       "      <td>1.0</td>\n",
       "    </tr>\n",
       "    <tr>\n",
       "      <th>18</th>\n",
       "      <td>great</td>\n",
       "      <td>1.0</td>\n",
       "    </tr>\n",
       "    <tr>\n",
       "      <th>19</th>\n",
       "      <td>4</td>\n",
       "      <td>1.0</td>\n",
       "    </tr>\n",
       "    <tr>\n",
       "      <th>20</th>\n",
       "      <td>flip</td>\n",
       "      <td>1.0</td>\n",
       "    </tr>\n",
       "    <tr>\n",
       "      <th>21</th>\n",
       "      <td>swim</td>\n",
       "      <td>1.0</td>\n",
       "    </tr>\n",
       "    <tr>\n",
       "      <th>22</th>\n",
       "      <td>provide</td>\n",
       "      <td>1.0</td>\n",
       "    </tr>\n",
       "    <tr>\n",
       "      <th>23</th>\n",
       "      <td>nike</td>\n",
       "      <td>1.0</td>\n",
       "    </tr>\n",
       "    <tr>\n",
       "      <th>24</th>\n",
       "      <td>skin</td>\n",
       "      <td>1.0</td>\n",
       "    </tr>\n",
       "    <tr>\n",
       "      <th>25</th>\n",
       "      <td>waistband</td>\n",
       "      <td>1.0</td>\n",
       "    </tr>\n",
       "    <tr>\n",
       "      <th>26</th>\n",
       "      <td>volley</td>\n",
       "      <td>1.0</td>\n",
       "    </tr>\n",
       "    <tr>\n",
       "      <th>27</th>\n",
       "      <td>boy</td>\n",
       "      <td>1.0</td>\n",
       "    </tr>\n",
       "    <tr>\n",
       "      <th>28</th>\n",
       "      <td>mesh</td>\n",
       "      <td>1.0</td>\n",
       "    </tr>\n",
       "    <tr>\n",
       "      <th>29</th>\n",
       "      <td>dive</td>\n",
       "      <td>1.0</td>\n",
       "    </tr>\n",
       "    <tr>\n",
       "      <th>30</th>\n",
       "      <td>dual</td>\n",
       "      <td>1.0</td>\n",
       "    </tr>\n",
       "    <tr>\n",
       "      <th>31</th>\n",
       "      <td>next</td>\n",
       "      <td>1.0</td>\n",
       "    </tr>\n",
       "    <tr>\n",
       "      <th>32</th>\n",
       "      <td>waterrepellent</td>\n",
       "      <td>1.0</td>\n",
       "    </tr>\n",
       "    <tr>\n",
       "      <th>33</th>\n",
       "      <td>builtin</td>\n",
       "      <td>1.0</td>\n",
       "    </tr>\n",
       "  </tbody>\n",
       "</table>\n",
       "</div>"
      ],
      "text/plain": [
       "             words   tf\n",
       "0        polyester  1.0\n",
       "1              100  1.0\n",
       "2            short  2.0\n",
       "3         swimming  2.0\n",
       "4              lap  2.0\n",
       "5         practice  1.0\n",
       "6           inside  1.0\n",
       "7            ideal  1.0\n",
       "8            solid  1.0\n",
       "9          stretch  1.0\n",
       "10           brief  1.0\n",
       "11            soft  1.0\n",
       "12         purpose  1.0\n",
       "13          fabric  1.0\n",
       "14    recreational  1.0\n",
       "15        drawcord  1.0\n",
       "16      cannonball  1.0\n",
       "17         support  1.0\n",
       "18           great  1.0\n",
       "19               4  1.0\n",
       "20            flip  1.0\n",
       "21            swim  1.0\n",
       "22         provide  1.0\n",
       "23            nike  1.0\n",
       "24            skin  1.0\n",
       "25       waistband  1.0\n",
       "26          volley  1.0\n",
       "27             boy  1.0\n",
       "28            mesh  1.0\n",
       "29            dive  1.0\n",
       "30            dual  1.0\n",
       "31            next  1.0\n",
       "32  waterrepellent  1.0\n",
       "33         builtin  1.0"
      ]
     },
     "execution_count": 43,
     "metadata": {},
     "output_type": "execute_result"
    }
   ],
   "source": [
    "tf1 = (text_data[0:2]).apply(lambda x: pd.value_counts(x.split(\" \"))).sum(axis = 0).reset_index()\n",
    "tf1.columns = ['words','tf']\n",
    "tf1"
   ]
  },
  {
   "cell_type": "markdown",
   "metadata": {},
   "source": [
    "#### Inverse Document Frequency"
   ]
  },
  {
   "cell_type": "code",
   "execution_count": 44,
   "metadata": {},
   "outputs": [
    {
     "data": {
      "text/html": [
       "<div>\n",
       "<style scoped>\n",
       "    .dataframe tbody tr th:only-of-type {\n",
       "        vertical-align: middle;\n",
       "    }\n",
       "\n",
       "    .dataframe tbody tr th {\n",
       "        vertical-align: top;\n",
       "    }\n",
       "\n",
       "    .dataframe thead th {\n",
       "        text-align: right;\n",
       "    }\n",
       "</style>\n",
       "<table border=\"1\" class=\"dataframe\">\n",
       "  <thead>\n",
       "    <tr style=\"text-align: right;\">\n",
       "      <th></th>\n",
       "      <th>words</th>\n",
       "      <th>tf</th>\n",
       "      <th>idf</th>\n",
       "    </tr>\n",
       "  </thead>\n",
       "  <tbody>\n",
       "    <tr>\n",
       "      <th>0</th>\n",
       "      <td>polyester</td>\n",
       "      <td>1.0</td>\n",
       "      <td>3.621703</td>\n",
       "    </tr>\n",
       "    <tr>\n",
       "      <th>1</th>\n",
       "      <td>100</td>\n",
       "      <td>1.0</td>\n",
       "      <td>2.940167</td>\n",
       "    </tr>\n",
       "    <tr>\n",
       "      <th>2</th>\n",
       "      <td>short</td>\n",
       "      <td>2.0</td>\n",
       "      <td>2.470134</td>\n",
       "    </tr>\n",
       "    <tr>\n",
       "      <th>3</th>\n",
       "      <td>swimming</td>\n",
       "      <td>2.0</td>\n",
       "      <td>7.093552</td>\n",
       "    </tr>\n",
       "    <tr>\n",
       "      <th>4</th>\n",
       "      <td>lap</td>\n",
       "      <td>2.0</td>\n",
       "      <td>3.607274</td>\n",
       "    </tr>\n",
       "    <tr>\n",
       "      <th>5</th>\n",
       "      <td>practice</td>\n",
       "      <td>1.0</td>\n",
       "      <td>8.048309</td>\n",
       "    </tr>\n",
       "    <tr>\n",
       "      <th>6</th>\n",
       "      <td>inside</td>\n",
       "      <td>1.0</td>\n",
       "      <td>4.662922</td>\n",
       "    </tr>\n",
       "    <tr>\n",
       "      <th>7</th>\n",
       "      <td>ideal</td>\n",
       "      <td>1.0</td>\n",
       "      <td>4.573424</td>\n",
       "    </tr>\n",
       "    <tr>\n",
       "      <th>8</th>\n",
       "      <td>solid</td>\n",
       "      <td>1.0</td>\n",
       "      <td>6.256549</td>\n",
       "    </tr>\n",
       "    <tr>\n",
       "      <th>9</th>\n",
       "      <td>stretch</td>\n",
       "      <td>1.0</td>\n",
       "      <td>3.176560</td>\n",
       "    </tr>\n",
       "    <tr>\n",
       "      <th>10</th>\n",
       "      <td>brief</td>\n",
       "      <td>1.0</td>\n",
       "      <td>4.839285</td>\n",
       "    </tr>\n",
       "    <tr>\n",
       "      <th>11</th>\n",
       "      <td>soft</td>\n",
       "      <td>1.0</td>\n",
       "      <td>3.129330</td>\n",
       "    </tr>\n",
       "    <tr>\n",
       "      <th>12</th>\n",
       "      <td>purpose</td>\n",
       "      <td>1.0</td>\n",
       "      <td>6.996528</td>\n",
       "    </tr>\n",
       "    <tr>\n",
       "      <th>13</th>\n",
       "      <td>fabric</td>\n",
       "      <td>1.0</td>\n",
       "      <td>2.904069</td>\n",
       "    </tr>\n",
       "    <tr>\n",
       "      <th>14</th>\n",
       "      <td>recreational</td>\n",
       "      <td>1.0</td>\n",
       "      <td>10.476057</td>\n",
       "    </tr>\n",
       "    <tr>\n",
       "      <th>15</th>\n",
       "      <td>drawcord</td>\n",
       "      <td>1.0</td>\n",
       "      <td>6.219657</td>\n",
       "    </tr>\n",
       "    <tr>\n",
       "      <th>16</th>\n",
       "      <td>cannonball</td>\n",
       "      <td>1.0</td>\n",
       "      <td>9.900693</td>\n",
       "    </tr>\n",
       "    <tr>\n",
       "      <th>17</th>\n",
       "      <td>support</td>\n",
       "      <td>1.0</td>\n",
       "      <td>4.513621</td>\n",
       "    </tr>\n",
       "    <tr>\n",
       "      <th>18</th>\n",
       "      <td>great</td>\n",
       "      <td>1.0</td>\n",
       "      <td>4.494643</td>\n",
       "    </tr>\n",
       "    <tr>\n",
       "      <th>19</th>\n",
       "      <td>4</td>\n",
       "      <td>1.0</td>\n",
       "      <td>3.166696</td>\n",
       "    </tr>\n",
       "    <tr>\n",
       "      <th>20</th>\n",
       "      <td>flip</td>\n",
       "      <td>1.0</td>\n",
       "      <td>5.951856</td>\n",
       "    </tr>\n",
       "    <tr>\n",
       "      <th>21</th>\n",
       "      <td>swim</td>\n",
       "      <td>1.0</td>\n",
       "      <td>4.458275</td>\n",
       "    </tr>\n",
       "    <tr>\n",
       "      <th>22</th>\n",
       "      <td>provide</td>\n",
       "      <td>1.0</td>\n",
       "      <td>4.613689</td>\n",
       "    </tr>\n",
       "    <tr>\n",
       "      <th>23</th>\n",
       "      <td>nike</td>\n",
       "      <td>1.0</td>\n",
       "      <td>4.370520</td>\n",
       "    </tr>\n",
       "    <tr>\n",
       "      <th>24</th>\n",
       "      <td>skin</td>\n",
       "      <td>1.0</td>\n",
       "      <td>3.064769</td>\n",
       "    </tr>\n",
       "    <tr>\n",
       "      <th>25</th>\n",
       "      <td>waistband</td>\n",
       "      <td>1.0</td>\n",
       "      <td>2.918874</td>\n",
       "    </tr>\n",
       "    <tr>\n",
       "      <th>26</th>\n",
       "      <td>volley</td>\n",
       "      <td>1.0</td>\n",
       "      <td>9.454406</td>\n",
       "    </tr>\n",
       "    <tr>\n",
       "      <th>27</th>\n",
       "      <td>boy</td>\n",
       "      <td>1.0</td>\n",
       "      <td>5.128950</td>\n",
       "    </tr>\n",
       "    <tr>\n",
       "      <th>28</th>\n",
       "      <td>mesh</td>\n",
       "      <td>1.0</td>\n",
       "      <td>3.988035</td>\n",
       "    </tr>\n",
       "    <tr>\n",
       "      <th>29</th>\n",
       "      <td>dive</td>\n",
       "      <td>1.0</td>\n",
       "      <td>6.178016</td>\n",
       "    </tr>\n",
       "    <tr>\n",
       "      <th>30</th>\n",
       "      <td>dual</td>\n",
       "      <td>1.0</td>\n",
       "      <td>5.606815</td>\n",
       "    </tr>\n",
       "    <tr>\n",
       "      <th>31</th>\n",
       "      <td>next</td>\n",
       "      <td>1.0</td>\n",
       "      <td>4.909835</td>\n",
       "    </tr>\n",
       "    <tr>\n",
       "      <th>32</th>\n",
       "      <td>waterrepellent</td>\n",
       "      <td>1.0</td>\n",
       "      <td>7.395167</td>\n",
       "    </tr>\n",
       "    <tr>\n",
       "      <th>33</th>\n",
       "      <td>builtin</td>\n",
       "      <td>1.0</td>\n",
       "      <td>6.795546</td>\n",
       "    </tr>\n",
       "  </tbody>\n",
       "</table>\n",
       "</div>"
      ],
      "text/plain": [
       "             words   tf        idf\n",
       "0        polyester  1.0   3.621703\n",
       "1              100  1.0   2.940167\n",
       "2            short  2.0   2.470134\n",
       "3         swimming  2.0   7.093552\n",
       "4              lap  2.0   3.607274\n",
       "5         practice  1.0   8.048309\n",
       "6           inside  1.0   4.662922\n",
       "7            ideal  1.0   4.573424\n",
       "8            solid  1.0   6.256549\n",
       "9          stretch  1.0   3.176560\n",
       "10           brief  1.0   4.839285\n",
       "11            soft  1.0   3.129330\n",
       "12         purpose  1.0   6.996528\n",
       "13          fabric  1.0   2.904069\n",
       "14    recreational  1.0  10.476057\n",
       "15        drawcord  1.0   6.219657\n",
       "16      cannonball  1.0   9.900693\n",
       "17         support  1.0   4.513621\n",
       "18           great  1.0   4.494643\n",
       "19               4  1.0   3.166696\n",
       "20            flip  1.0   5.951856\n",
       "21            swim  1.0   4.458275\n",
       "22         provide  1.0   4.613689\n",
       "23            nike  1.0   4.370520\n",
       "24            skin  1.0   3.064769\n",
       "25       waistband  1.0   2.918874\n",
       "26          volley  1.0   9.454406\n",
       "27             boy  1.0   5.128950\n",
       "28            mesh  1.0   3.988035\n",
       "29            dive  1.0   6.178016\n",
       "30            dual  1.0   5.606815\n",
       "31            next  1.0   4.909835\n",
       "32  waterrepellent  1.0   7.395167\n",
       "33         builtin  1.0   6.795546"
      ]
     },
     "execution_count": 44,
     "metadata": {},
     "output_type": "execute_result"
    }
   ],
   "source": [
    "import numpy as np\n",
    "for i,word in enumerate(tf1['words']):\n",
    "    tf1.loc[i, 'idf'] = np.log(text_data.shape[0]/(len(text_data[text_data.str.contains(word)])))\n",
    "\n",
    "tf1"
   ]
  },
  {
   "cell_type": "markdown",
   "metadata": {},
   "source": [
    "#### TF-IDF"
   ]
  },
  {
   "cell_type": "code",
   "execution_count": 45,
   "metadata": {},
   "outputs": [
    {
     "data": {
      "text/html": [
       "<div>\n",
       "<style scoped>\n",
       "    .dataframe tbody tr th:only-of-type {\n",
       "        vertical-align: middle;\n",
       "    }\n",
       "\n",
       "    .dataframe tbody tr th {\n",
       "        vertical-align: top;\n",
       "    }\n",
       "\n",
       "    .dataframe thead th {\n",
       "        text-align: right;\n",
       "    }\n",
       "</style>\n",
       "<table border=\"1\" class=\"dataframe\">\n",
       "  <thead>\n",
       "    <tr style=\"text-align: right;\">\n",
       "      <th></th>\n",
       "      <th>words</th>\n",
       "      <th>tf</th>\n",
       "      <th>idf</th>\n",
       "      <th>tfidf</th>\n",
       "    </tr>\n",
       "  </thead>\n",
       "  <tbody>\n",
       "    <tr>\n",
       "      <th>0</th>\n",
       "      <td>polyester</td>\n",
       "      <td>1.0</td>\n",
       "      <td>3.621703</td>\n",
       "      <td>3.621703</td>\n",
       "    </tr>\n",
       "    <tr>\n",
       "      <th>1</th>\n",
       "      <td>100</td>\n",
       "      <td>1.0</td>\n",
       "      <td>2.940167</td>\n",
       "      <td>2.940167</td>\n",
       "    </tr>\n",
       "    <tr>\n",
       "      <th>2</th>\n",
       "      <td>short</td>\n",
       "      <td>2.0</td>\n",
       "      <td>2.470134</td>\n",
       "      <td>4.940268</td>\n",
       "    </tr>\n",
       "    <tr>\n",
       "      <th>3</th>\n",
       "      <td>swimming</td>\n",
       "      <td>2.0</td>\n",
       "      <td>7.093552</td>\n",
       "      <td>14.187104</td>\n",
       "    </tr>\n",
       "    <tr>\n",
       "      <th>4</th>\n",
       "      <td>lap</td>\n",
       "      <td>2.0</td>\n",
       "      <td>3.607274</td>\n",
       "      <td>7.214547</td>\n",
       "    </tr>\n",
       "    <tr>\n",
       "      <th>5</th>\n",
       "      <td>practice</td>\n",
       "      <td>1.0</td>\n",
       "      <td>8.048309</td>\n",
       "      <td>8.048309</td>\n",
       "    </tr>\n",
       "    <tr>\n",
       "      <th>6</th>\n",
       "      <td>inside</td>\n",
       "      <td>1.0</td>\n",
       "      <td>4.662922</td>\n",
       "      <td>4.662922</td>\n",
       "    </tr>\n",
       "    <tr>\n",
       "      <th>7</th>\n",
       "      <td>ideal</td>\n",
       "      <td>1.0</td>\n",
       "      <td>4.573424</td>\n",
       "      <td>4.573424</td>\n",
       "    </tr>\n",
       "    <tr>\n",
       "      <th>8</th>\n",
       "      <td>solid</td>\n",
       "      <td>1.0</td>\n",
       "      <td>6.256549</td>\n",
       "      <td>6.256549</td>\n",
       "    </tr>\n",
       "    <tr>\n",
       "      <th>9</th>\n",
       "      <td>stretch</td>\n",
       "      <td>1.0</td>\n",
       "      <td>3.176560</td>\n",
       "      <td>3.176560</td>\n",
       "    </tr>\n",
       "    <tr>\n",
       "      <th>10</th>\n",
       "      <td>brief</td>\n",
       "      <td>1.0</td>\n",
       "      <td>4.839285</td>\n",
       "      <td>4.839285</td>\n",
       "    </tr>\n",
       "    <tr>\n",
       "      <th>11</th>\n",
       "      <td>soft</td>\n",
       "      <td>1.0</td>\n",
       "      <td>3.129330</td>\n",
       "      <td>3.129330</td>\n",
       "    </tr>\n",
       "    <tr>\n",
       "      <th>12</th>\n",
       "      <td>purpose</td>\n",
       "      <td>1.0</td>\n",
       "      <td>6.996528</td>\n",
       "      <td>6.996528</td>\n",
       "    </tr>\n",
       "    <tr>\n",
       "      <th>13</th>\n",
       "      <td>fabric</td>\n",
       "      <td>1.0</td>\n",
       "      <td>2.904069</td>\n",
       "      <td>2.904069</td>\n",
       "    </tr>\n",
       "    <tr>\n",
       "      <th>14</th>\n",
       "      <td>recreational</td>\n",
       "      <td>1.0</td>\n",
       "      <td>10.476057</td>\n",
       "      <td>10.476057</td>\n",
       "    </tr>\n",
       "    <tr>\n",
       "      <th>15</th>\n",
       "      <td>drawcord</td>\n",
       "      <td>1.0</td>\n",
       "      <td>6.219657</td>\n",
       "      <td>6.219657</td>\n",
       "    </tr>\n",
       "    <tr>\n",
       "      <th>16</th>\n",
       "      <td>cannonball</td>\n",
       "      <td>1.0</td>\n",
       "      <td>9.900693</td>\n",
       "      <td>9.900693</td>\n",
       "    </tr>\n",
       "    <tr>\n",
       "      <th>17</th>\n",
       "      <td>support</td>\n",
       "      <td>1.0</td>\n",
       "      <td>4.513621</td>\n",
       "      <td>4.513621</td>\n",
       "    </tr>\n",
       "    <tr>\n",
       "      <th>18</th>\n",
       "      <td>great</td>\n",
       "      <td>1.0</td>\n",
       "      <td>4.494643</td>\n",
       "      <td>4.494643</td>\n",
       "    </tr>\n",
       "    <tr>\n",
       "      <th>19</th>\n",
       "      <td>4</td>\n",
       "      <td>1.0</td>\n",
       "      <td>3.166696</td>\n",
       "      <td>3.166696</td>\n",
       "    </tr>\n",
       "    <tr>\n",
       "      <th>20</th>\n",
       "      <td>flip</td>\n",
       "      <td>1.0</td>\n",
       "      <td>5.951856</td>\n",
       "      <td>5.951856</td>\n",
       "    </tr>\n",
       "    <tr>\n",
       "      <th>21</th>\n",
       "      <td>swim</td>\n",
       "      <td>1.0</td>\n",
       "      <td>4.458275</td>\n",
       "      <td>4.458275</td>\n",
       "    </tr>\n",
       "    <tr>\n",
       "      <th>22</th>\n",
       "      <td>provide</td>\n",
       "      <td>1.0</td>\n",
       "      <td>4.613689</td>\n",
       "      <td>4.613689</td>\n",
       "    </tr>\n",
       "    <tr>\n",
       "      <th>23</th>\n",
       "      <td>nike</td>\n",
       "      <td>1.0</td>\n",
       "      <td>4.370520</td>\n",
       "      <td>4.370520</td>\n",
       "    </tr>\n",
       "    <tr>\n",
       "      <th>24</th>\n",
       "      <td>skin</td>\n",
       "      <td>1.0</td>\n",
       "      <td>3.064769</td>\n",
       "      <td>3.064769</td>\n",
       "    </tr>\n",
       "    <tr>\n",
       "      <th>25</th>\n",
       "      <td>waistband</td>\n",
       "      <td>1.0</td>\n",
       "      <td>2.918874</td>\n",
       "      <td>2.918874</td>\n",
       "    </tr>\n",
       "    <tr>\n",
       "      <th>26</th>\n",
       "      <td>volley</td>\n",
       "      <td>1.0</td>\n",
       "      <td>9.454406</td>\n",
       "      <td>9.454406</td>\n",
       "    </tr>\n",
       "    <tr>\n",
       "      <th>27</th>\n",
       "      <td>boy</td>\n",
       "      <td>1.0</td>\n",
       "      <td>5.128950</td>\n",
       "      <td>5.128950</td>\n",
       "    </tr>\n",
       "    <tr>\n",
       "      <th>28</th>\n",
       "      <td>mesh</td>\n",
       "      <td>1.0</td>\n",
       "      <td>3.988035</td>\n",
       "      <td>3.988035</td>\n",
       "    </tr>\n",
       "    <tr>\n",
       "      <th>29</th>\n",
       "      <td>dive</td>\n",
       "      <td>1.0</td>\n",
       "      <td>6.178016</td>\n",
       "      <td>6.178016</td>\n",
       "    </tr>\n",
       "    <tr>\n",
       "      <th>30</th>\n",
       "      <td>dual</td>\n",
       "      <td>1.0</td>\n",
       "      <td>5.606815</td>\n",
       "      <td>5.606815</td>\n",
       "    </tr>\n",
       "    <tr>\n",
       "      <th>31</th>\n",
       "      <td>next</td>\n",
       "      <td>1.0</td>\n",
       "      <td>4.909835</td>\n",
       "      <td>4.909835</td>\n",
       "    </tr>\n",
       "    <tr>\n",
       "      <th>32</th>\n",
       "      <td>waterrepellent</td>\n",
       "      <td>1.0</td>\n",
       "      <td>7.395167</td>\n",
       "      <td>7.395167</td>\n",
       "    </tr>\n",
       "    <tr>\n",
       "      <th>33</th>\n",
       "      <td>builtin</td>\n",
       "      <td>1.0</td>\n",
       "      <td>6.795546</td>\n",
       "      <td>6.795546</td>\n",
       "    </tr>\n",
       "  </tbody>\n",
       "</table>\n",
       "</div>"
      ],
      "text/plain": [
       "             words   tf        idf      tfidf\n",
       "0        polyester  1.0   3.621703   3.621703\n",
       "1              100  1.0   2.940167   2.940167\n",
       "2            short  2.0   2.470134   4.940268\n",
       "3         swimming  2.0   7.093552  14.187104\n",
       "4              lap  2.0   3.607274   7.214547\n",
       "5         practice  1.0   8.048309   8.048309\n",
       "6           inside  1.0   4.662922   4.662922\n",
       "7            ideal  1.0   4.573424   4.573424\n",
       "8            solid  1.0   6.256549   6.256549\n",
       "9          stretch  1.0   3.176560   3.176560\n",
       "10           brief  1.0   4.839285   4.839285\n",
       "11            soft  1.0   3.129330   3.129330\n",
       "12         purpose  1.0   6.996528   6.996528\n",
       "13          fabric  1.0   2.904069   2.904069\n",
       "14    recreational  1.0  10.476057  10.476057\n",
       "15        drawcord  1.0   6.219657   6.219657\n",
       "16      cannonball  1.0   9.900693   9.900693\n",
       "17         support  1.0   4.513621   4.513621\n",
       "18           great  1.0   4.494643   4.494643\n",
       "19               4  1.0   3.166696   3.166696\n",
       "20            flip  1.0   5.951856   5.951856\n",
       "21            swim  1.0   4.458275   4.458275\n",
       "22         provide  1.0   4.613689   4.613689\n",
       "23            nike  1.0   4.370520   4.370520\n",
       "24            skin  1.0   3.064769   3.064769\n",
       "25       waistband  1.0   2.918874   2.918874\n",
       "26          volley  1.0   9.454406   9.454406\n",
       "27             boy  1.0   5.128950   5.128950\n",
       "28            mesh  1.0   3.988035   3.988035\n",
       "29            dive  1.0   6.178016   6.178016\n",
       "30            dual  1.0   5.606815   5.606815\n",
       "31            next  1.0   4.909835   4.909835\n",
       "32  waterrepellent  1.0   7.395167   7.395167\n",
       "33         builtin  1.0   6.795546   6.795546"
      ]
     },
     "execution_count": 45,
     "metadata": {},
     "output_type": "execute_result"
    }
   ],
   "source": [
    "tf1['tfidf'] = tf1['tf'] * tf1['idf']\n",
    "tf1"
   ]
  },
  {
   "cell_type": "markdown",
   "metadata": {},
   "source": [
    "#### Bags of Words"
   ]
  },
  {
   "cell_type": "code",
   "execution_count": 46,
   "metadata": {},
   "outputs": [
    {
     "data": {
      "text/plain": [
       "<319107x1000 sparse matrix of type '<class 'numpy.int64'>'\n",
       "\twith 4241394 stored elements in Compressed Sparse Row format>"
      ]
     },
     "execution_count": 46,
     "metadata": {},
     "output_type": "execute_result"
    }
   ],
   "source": [
    "from sklearn.feature_extraction.text import CountVectorizer\n",
    "bow = CountVectorizer(max_features=1000, lowercase=True, ngram_range=(1,1),analyzer = \"word\")\n",
    "train_bow = bow.fit_transform(text_data)\n",
    "train_bow"
   ]
  },
  {
   "cell_type": "markdown",
   "metadata": {},
   "source": [
    "### Sentiment Analysis"
   ]
  },
  {
   "cell_type": "code",
   "execution_count": 47,
   "metadata": {},
   "outputs": [
    {
     "data": {
      "text/plain": [
       "0                      (0.0, 0.0)\n",
       "1    (0.225, 0.39166666666666666)\n",
       "2                      (0.0, 0.0)\n",
       "3                      (0.0, 0.0)\n",
       "4                      (0.0, 0.0)\n",
       "Name: description_text, dtype: object"
      ]
     },
     "execution_count": 47,
     "metadata": {},
     "output_type": "execute_result"
    }
   ],
   "source": [
    "text_data[:5].apply(lambda x: TextBlob(x).sentiment)"
   ]
  },
  {
   "cell_type": "markdown",
   "metadata": {},
   "source": [
    "Above, we can see that it returns a tuple representing polarity and subjectivity of each tweet. Here, we only extract polarity as it indicates the sentiment as value nearer to 1 means a positive sentiment and values nearer to -1 means a negative sentiment"
   ]
  },
  {
   "cell_type": "code",
   "execution_count": 48,
   "metadata": {},
   "outputs": [
    {
     "data": {
      "text/plain": [
       "0     0.000000\n",
       "1     0.225000\n",
       "2     0.000000\n",
       "3     0.000000\n",
       "4     0.000000\n",
       "5     0.000000\n",
       "6     0.300000\n",
       "7     0.000000\n",
       "8     0.000000\n",
       "9     0.000000\n",
       "10    0.250000\n",
       "11    0.000000\n",
       "12    0.227548\n",
       "13    0.350000\n",
       "14    0.000000\n",
       "15    0.000000\n",
       "16    0.000000\n",
       "17    0.000000\n",
       "18    0.128571\n",
       "19    0.500000\n",
       "Name: description_text, dtype: float64"
      ]
     },
     "execution_count": 48,
     "metadata": {},
     "output_type": "execute_result"
    }
   ],
   "source": [
    "text_data[0:20].apply(lambda x: TextBlob(x).sentiment[0])\n"
   ]
  },
  {
   "cell_type": "markdown",
   "metadata": {},
   "source": []
  },
  {
   "cell_type": "code",
   "execution_count": null,
   "metadata": {},
   "outputs": [],
   "source": []
  }
 ],
 "metadata": {
  "kernelspec": {
   "display_name": "Python 3",
   "language": "python",
   "name": "python3"
  },
  "language_info": {
   "codemirror_mode": {
    "name": "ipython",
    "version": 3
   },
   "file_extension": ".py",
   "mimetype": "text/x-python",
   "name": "python",
   "nbconvert_exporter": "python",
   "pygments_lexer": "ipython3",
   "version": "3.7.4"
  }
 },
 "nbformat": 4,
 "nbformat_minor": 2
}
